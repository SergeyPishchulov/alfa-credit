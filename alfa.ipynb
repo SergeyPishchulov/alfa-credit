{
 "cells": [
  {
   "attachments": {},
   "cell_type": "markdown",
   "id": "bbfbb3a2",
   "metadata": {},
   "source": [
    "imports"
   ]
  },
  {
   "cell_type": "code",
   "execution_count": 1,
   "id": "5ae00d53-9276-417e-a92d-d7bc862248be",
   "metadata": {
    "tags": []
   },
   "outputs": [],
   "source": [
    "import pandas as pd\n",
    "import torch\n",
    "import numpy as np\n",
    "# import torchvision\n",
    "import matplotlib.pyplot as plt\n",
    "import time\n",
    "import copy\n",
    "from torch.utils.data import Dataset"
   ]
  },
  {
   "cell_type": "code",
   "execution_count": 2,
   "id": "4a1460bc-5acf-48c2-8e79-dbb42f3bdcf2",
   "metadata": {
    "tags": []
   },
   "outputs": [],
   "source": [
    "# pd.read_csv(\"data_for_competition/test_target.csv\")"
   ]
  },
  {
   "cell_type": "code",
   "execution_count": 12,
   "id": "986d3a73",
   "metadata": {},
   "outputs": [],
   "source": [
    "file_names = [f'data_for_competition/train_data/train_data_{i}.pq' for i in range(12)]\n",
    "# file_names"
   ]
  },
  {
   "cell_type": "code",
   "execution_count": 13,
   "id": "969d782e-ba19-4b46-9d05-f19df9a5bc72",
   "metadata": {},
   "outputs": [],
   "source": [
    "# s=0\n",
    "# for i in range(12):\n",
    "#     df = pd.read_parquet(f'data_for_competition/train_data/train_data_{i}.pq', engine='fastparquet')#[:100]\n",
    "#     s+=df.shape[0]\n",
    "#     print(df.groupby(\"id\").rn.count().max())\n",
    "# # print(s)"
   ]
  },
  {
   "cell_type": "code",
   "execution_count": 22,
   "id": "7d477ac7",
   "metadata": {},
   "outputs": [
    {
     "data": {
      "text/plain": [
       "0      0\n",
       "1      0\n",
       "2      0\n",
       "3      0\n",
       "4      0\n",
       "      ..\n",
       "95    11\n",
       "96    11\n",
       "97    12\n",
       "98    12\n",
       "99    12\n",
       "Name: id, Length: 100, dtype: int64"
      ]
     },
     "execution_count": 22,
     "metadata": {},
     "output_type": "execute_result"
    }
   ],
   "source": [
    "df = pd.read_parquet(f'data_for_competition/train_data/train_data_{0}.pq', engine='fastparquet')[:100]\n",
    "df.id"
   ]
  },
  {
   "cell_type": "code",
   "execution_count": 15,
   "id": "29403402",
   "metadata": {},
   "outputs": [
    {
     "data": {
      "text/plain": [
       "array([[1., 1., 1., 1., 1.],\n",
       "       [1., 1., 1., 1., 1.],\n",
       "       [1., 1., 1., 1., 1.],\n",
       "       [0., 0., 0., 0., 0.],\n",
       "       [0., 0., 0., 0., 0.],\n",
       "       [0., 0., 0., 0., 0.],\n",
       "       [0., 0., 0., 0., 0.],\n",
       "       [0., 0., 0., 0., 0.],\n",
       "       [0., 0., 0., 0., 0.],\n",
       "       [0., 0., 0., 0., 0.]])"
      ]
     },
     "execution_count": 15,
     "metadata": {},
     "output_type": "execute_result"
    }
   ],
   "source": [
    "a = np.array([[1.,  1.,  1.,  1.,  1.],\n",
    "              [1.,  1.,  1.,  1.,  1.],\n",
    "              [1.,  1.,  1.,  1.,  1.]])\n",
    "np.pad(a, [(0, 10-a.shape[0]), (0, 0)], mode='constant')\n"
   ]
  },
  {
   "cell_type": "code",
   "execution_count": 16,
   "id": "68b2edc9",
   "metadata": {},
   "outputs": [],
   "source": [
    "def get_padded_tensor(df, orders_cnt=70):\n",
    "    tensors = []\n",
    "    ids =[]\n",
    "    for id, order in df.groupby(\"id\"):\n",
    "        order = order.sort_values(\"rn\").drop('rn', axis=1).values\n",
    "        tensors.append(torch.tensor(np.pad(order, [(0, orders_cnt-order.shape[0]), (0, 0)], mode='constant')))\n",
    "        ids.append(id)\n",
    "    return ids, torch.nn.utils.rnn.pad_sequence(tensors, batch_first=True)\n"
   ]
  },
  {
   "cell_type": "code",
   "execution_count": 17,
   "id": "b6f0fee0",
   "metadata": {},
   "outputs": [],
   "source": [
    "# df[:30]"
   ]
  },
  {
   "cell_type": "code",
   "execution_count": null,
   "id": "b0d2350a",
   "metadata": {},
   "outputs": [],
   "source": []
  },
  {
   "attachments": {},
   "cell_type": "markdown",
   "id": "91b8456a",
   "metadata": {},
   "source": [
    "Loader"
   ]
  },
  {
   "cell_type": "code",
   "execution_count": null,
   "id": "1116cbf4",
   "metadata": {},
   "outputs": [],
   "source": []
  },
  {
   "cell_type": "code",
   "execution_count": 29,
   "id": "c82173be",
   "metadata": {},
   "outputs": [],
   "source": [
    "class CustomDataset(Dataset):\n",
    "    def __init__(self, filenames):\n",
    "      # `filenames` is a list of strings that contains all file names.\n",
    "      # `batch_size` determines the number of files that we want to read in a chunk.\n",
    "        self.filenames = filenames\n",
    "\n",
    "    def __len__(self):\n",
    "        # Number of chunks.\n",
    "        return len(self.filenames)\n",
    "\n",
    "    def __getitem__(self, idx):  # idx means index of the chunk.\n",
    "      # In this method, we do all the preprocessing.\n",
    "      # First read  data from files in a chunk. Preprocess it. Extract labels. Then return data and labels.\n",
    "        # This extracts one batch of file names from the list `filenames`.\n",
    "        file = self.filenames[idx]\n",
    "        data = pd.read_parquet(file, engine='fastparquet')\n",
    "        cat_columns = list(data.columns)[2:]\n",
    "        data[cat_columns] = data[cat_columns].astype('category')\n",
    "\n",
    "        # ids, data = get_padded_tensor(data)\n",
    "\n",
    "        target_file_name = f'data_for_competition/train_target.csv'\n",
    "        target = pd.read_csv(target_file_name, index_col='id')\n",
    "        labels = target[target.index.isin(set(data.id))].flag.values\n",
    "        # The following condition is actually needed in Pytorch. Otherwise, for our particular example, the iterator will be an infinite loop.\n",
    "        # Readers can verify this by removing this condition.\n",
    "        if idx == self.__len__():\n",
    "            raise IndexError\n",
    "\n",
    "        return data, labels\n"
   ]
  },
  {
   "cell_type": "code",
   "execution_count": 30,
   "id": "d267f6bf",
   "metadata": {},
   "outputs": [],
   "source": [
    "ds = CustomDataset(file_names)"
   ]
  },
  {
   "cell_type": "code",
   "execution_count": 31,
   "id": "fd0a2369",
   "metadata": {},
   "outputs": [
    {
     "name": "stdout",
     "output_type": "stream",
     "text": [
      "(1974724, 61)\n"
     ]
    }
   ],
   "source": [
    "for data, labels in ds:\n",
    "    print(data.shape)\n",
    "    # print(labels.shape)\n",
    "    break"
   ]
  },
  {
   "cell_type": "code",
   "execution_count": 7,
   "id": "97b28072",
   "metadata": {},
   "outputs": [
    {
     "data": {
      "text/plain": [
       "array([[[     0,      1,     18, ...,      1,      0,      0],\n",
       "        [     0,      2,     18, ...,      1,      0,      0],\n",
       "        [     0,      3,     18, ...,      1,      1,      1],\n",
       "        ...,\n",
       "        [249999,      1,      9, ...,      1,      0,      1],\n",
       "        [249999,      2,      9, ...,      1,      0,      0],\n",
       "        [249999,      3,      9, ...,      1,      0,      0]]])"
      ]
     },
     "execution_count": 7,
     "metadata": {},
     "output_type": "execute_result"
    }
   ],
   "source": [
    "data"
   ]
  },
  {
   "cell_type": "code",
   "execution_count": null,
   "id": "f64ac166",
   "metadata": {},
   "outputs": [],
   "source": [
    "def train_model(model, loss, optimizer, scheduler, num_epochs):\n",
    "    for epoch in range(num_epochs):\n",
    "        print('Epoch {}/{}:'.format(epoch, num_epochs - 1), flush=True)\n",
    "\n",
    "        # Each epoch has a training and validation phase\n",
    "        for phase in ['train', 'val']:\n",
    "            if phase == 'train':\n",
    "                dataloader = train_dataloader\n",
    "                scheduler.step()\n",
    "                model.train()  # Set model to training mode\n",
    "            else:\n",
    "                dataloader = val_dataloader\n",
    "                model.eval()   # Set model to evaluate mode\n",
    "\n",
    "            running_loss = 0.\n",
    "            running_acc = 0.\n",
    "\n",
    "            # Iterate over data.\n",
    "            for inputs, labels in tqdm(dataloader):\n",
    "                inputs = inputs.to(device)\n",
    "                labels = labels.to(device)\n",
    "\n",
    "                optimizer.zero_grad()\n",
    "\n",
    "                # forward and backward\n",
    "                with torch.set_grad_enabled(phase == 'train'):\n",
    "                    preds = model(inputs)\n",
    "                    loss_value = loss(preds, labels)\n",
    "                    preds_class = preds.argmax(dim=1)\n",
    "\n",
    "                    # backward + optimize only if in training phase\n",
    "                    if phase == 'train':\n",
    "                        loss_value.backward()\n",
    "                        optimizer.step()\n",
    "\n",
    "                # statistics\n",
    "                running_loss += loss_value.item()\n",
    "                running_acc += (preds_class == labels.data).float().mean()\n",
    "\n",
    "            epoch_loss = running_loss / len(dataloader)\n",
    "            epoch_acc = running_acc / len(dataloader)\n",
    "\n",
    "            print('{} Loss: {:.4f} Acc: {:.4f}'.format(phase, epoch_loss, epoch_acc), flush=True)\n",
    "\n",
    "    return model"
   ]
  }
 ],
 "metadata": {
  "kernelspec": {
   "display_name": "Python 3",
   "language": "python",
   "name": "python3"
  },
  "language_info": {
   "codemirror_mode": {
    "name": "ipython",
    "version": 3
   },
   "file_extension": ".py",
   "mimetype": "text/x-python",
   "name": "python",
   "nbconvert_exporter": "python",
   "pygments_lexer": "ipython3",
   "version": "3.10.6"
  },
  "vscode": {
   "interpreter": {
    "hash": "916dbcbb3f70747c44a77c7bcd40155683ae19c65e1c03b4aa3499c5328201f1"
   }
  }
 },
 "nbformat": 4,
 "nbformat_minor": 5
}
